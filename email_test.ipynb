{
 "cells": [
  {
   "cell_type": "code",
   "execution_count": 1,
   "metadata": {},
   "outputs": [],
   "source": [
    "def read_file(file):\n",
    "    import csv\n",
    "    with open(file, 'r') as f:\n",
    "        reader = csv.reader(f, delimiter=',')\n",
    "        header = next(reader)\n",
    "        contacts = [[line[0], line[1]] for line in reader]\n",
    "    return contacts"
   ]
  },
  {
   "cell_type": "code",
   "execution_count": 2,
   "metadata": {},
   "outputs": [],
   "source": [
    "def read_template(message):\n",
    "    from string import Template\n",
    "    with open(message, 'r', encoding='utf-8') as f:\n",
    "        content = f.read()\n",
    "    return Template(content)"
   ]
  },
  {
   "cell_type": "code",
   "execution_count": 10,
   "metadata": {},
   "outputs": [],
   "source": [
    "def send_messages(contact_file, message_file):\n",
    "    \n",
    "    recipients = read_file(contact_file)\n",
    "    message_template = read_template(message_file)\n",
    "    \n",
    "    import smtplib\n",
    "    from mail_data import EMAIL, PASS\n",
    "    \n",
    "    server = smtplib.SMTP('smtp.gmail.com', 587)\n",
    "    server.starttls()\n",
    "    server.login(EMAIL, PASS)\n",
    "    \n",
    "    from email.mime.multipart import MIMEMultipart\n",
    "    from email.mime.text import MIMEText\n",
    "    from email.mime.base import MIMEBase\n",
    "    from email import encoders\n",
    "    from PIL import Image\n",
    "    from io import BytesIO\n",
    "\n",
    "    for contact in recipients:\n",
    "        name = contact[0]\n",
    "        email = contact[1]\n",
    "\n",
    "        message = MIMEMultipart()\n",
    "\n",
    "        named_template = message_template.substitute(RECIPIENT_NAME=name.title())\n",
    "\n",
    "        message['From'] = EMAIL\n",
    "        message['To'] = email\n",
    "        message['Subject'] = \"Subject\"\n",
    "        message.attach(MIMEText(named_template, 'plain'))\n",
    "        \n",
    "        image = Image.open('img.jpeg')\n",
    "        bytes = BytesIO()\n",
    "        image.save(bytes, format='JPEG')\n",
    "        att = MIMEBase('image', 'jpeg')\n",
    "        att.set_payload(bytes.getvalue())\n",
    "        encoders.encode_base64(att)\n",
    "        att.add_header('Content-Disposition', 'attachment', filename='img.jpeg')\n",
    "        \n",
    "        message.attach(att)\n",
    "        \n",
    "        server.send_message(message)\n",
    "\n",
    "        del message\n",
    "    \n",
    "    server.quit()\n"
   ]
  },
  {
   "cell_type": "code",
   "execution_count": 11,
   "metadata": {},
   "outputs": [],
   "source": [
    "send_messages('contacts.csv', 'message.txt')"
   ]
  },
  {
   "cell_type": "markdown",
   "metadata": {},
   "source": [
    "** Create a DB and insert dummy users **"
   ]
  },
  {
   "cell_type": "code",
   "execution_count": 17,
   "metadata": {},
   "outputs": [],
   "source": [
    "import pymongo\n",
    "conn = \"mongodb://localhost:27017\"\n",
    "client = pymongo.MongoClient(conn)\n",
    "db = client.email_app\n",
    "collection=db.users"
   ]
  },
  {
   "cell_type": "code",
   "execution_count": 18,
   "metadata": {},
   "outputs": [],
   "source": [
    "users = [{'username': 'admin', 'password': 'password'}, {'username': 'guest', 'password': '321321'}]\n",
    "for user in users:\n",
    "    collection.insert_one(user)"
   ]
  },
  {
   "cell_type": "code",
   "execution_count": 16,
   "metadata": {},
   "outputs": [],
   "source": []
  },
  {
   "cell_type": "code",
   "execution_count": null,
   "metadata": {},
   "outputs": [],
   "source": []
  }
 ],
 "metadata": {
  "kernelspec": {
   "display_name": "Python 3",
   "language": "python",
   "name": "python3"
  },
  "language_info": {
   "codemirror_mode": {
    "name": "ipython",
    "version": 3
   },
   "file_extension": ".py",
   "mimetype": "text/x-python",
   "name": "python",
   "nbconvert_exporter": "python",
   "pygments_lexer": "ipython3",
   "version": "3.6.5"
  }
 },
 "nbformat": 4,
 "nbformat_minor": 2
}
