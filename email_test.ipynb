{
 "cells": [
  {
   "cell_type": "code",
   "execution_count": 1,
   "metadata": {},
   "outputs": [],
   "source": [
    "def read_file(file):\n",
    "    import csv\n",
    "    with open(file, 'r') as f:\n",
    "        reader = csv.reader(f, delimiter=',')\n",
    "        header = next(reader)\n",
    "        contacts = [[line[0], line[1]] for line in reader]\n",
    "    return contacts"
   ]
  },
  {
   "cell_type": "code",
   "execution_count": 2,
   "metadata": {},
   "outputs": [],
   "source": [
    "def read_template(message):\n",
    "    from string import Template\n",
    "    with open(message, 'r', encoding='utf-8') as f:\n",
    "        content = f.read()\n",
    "    return Template(content)"
   ]
  },
  {
   "cell_type": "code",
   "execution_count": 38,
   "metadata": {},
   "outputs": [],
   "source": [
    "def send_messages(contact_file, message_file):\n",
    "    \n",
    "    recipients = read_file(contact_file)\n",
    "    message_template = read_template(message_file)\n",
    "    \n",
    "    import smtplib\n",
    "    from mail_data import EMAIL, PASS\n",
    "    \n",
    "    server = smtplib.SMTP('smtp.gmail.com', 587)\n",
    "    server.starttls()\n",
    "    server.login(EMAIL, PASS)\n",
    "    \n",
    "    from email.mime.multipart import MIMEMultipart\n",
    "    from email.mime.text import MIMEText\n",
    "    from email.mime.base import MIMEBase\n",
    "    from email.mime.image import MIMEImage\n",
    "    from email.header import Header\n",
    "    import html\n",
    "    import cgi\n",
    "    import uuid\n",
    "    \n",
    "#     from email import encoders\n",
    "#     from PIL import Image\n",
    "#     from io import BytesIO\n",
    "\n",
    "    for contact in recipients:\n",
    "        name = contact[0]\n",
    "        email = contact[1]\n",
    "\n",
    "        message = MIMEMultipart()\n",
    "\n",
    "        named_template = message_template.substitute(RECIPIENT_NAME=name.title())\n",
    "\n",
    "        message['From'] = EMAIL\n",
    "        message['To'] = email\n",
    "        message['Subject'] = \"Subject\"\n",
    "        message.attach(MIMEText(named_template, 'plain'))\n",
    "        \n",
    "        # add embeded image:\n",
    "        \n",
    "        img = dict(title='Motivation image', path='cleaning.jpeg', cid=str(uuid.uuid4()))\n",
    "#         msg_text = MIMEText('[image: {title}]'.format(**img), 'plain', 'utf-8')\n",
    "#         message.attach(msg_text)\n",
    "        \n",
    "        msg_html = MIMEText('<br><br><div dir=\"ltr\">'\n",
    "                     '<img src=\"cid:{cid}\" alt=\"{alt}\"><br></div>'\n",
    "                    .format(alt=cgi.html.escape(img['title'], quote=True), **img),\n",
    "                    'html', 'utf-8')\n",
    "        \n",
    "        message.attach(msg_html)\n",
    "\n",
    "        with open(img['path'], 'rb') as file:\n",
    "#             msg_image = MIMEImage(file.read(), name=os.path.basename(img['path']))\n",
    "            msg_image = MIMEImage(file.read())\n",
    "#             msg_image.add_header('Content-ID', f'<{img[\"cid\"]}>')\n",
    "            message.attach(msg_image)\n",
    "        \n",
    "        \n",
    "#         Add image as attachment:\n",
    "#         image = Image.open('img.jpeg')\n",
    "#         bytes = BytesIO()\n",
    "#         image.save(bytes, format='JPEG')\n",
    "#         att = MIMEBase('image', 'jpeg')\n",
    "#         att.set_payload(bytes.getvalue())\n",
    "#         encoders.encode_base64(att)\n",
    "#         att.add_header('Content-Disposition', 'attachment', filename='img.jpeg')\n",
    "     \n",
    "#         message.attach(att)\n",
    "        \n",
    "#         print(message)\n",
    "        \n",
    "        server.send_message(message)\n",
    "\n",
    "        del message\n",
    "    \n",
    "    server.quit()\n"
   ]
  },
  {
   "cell_type": "code",
   "execution_count": 39,
   "metadata": {},
   "outputs": [],
   "source": [
    "send_messages('contacts_example.csv', 'message_example.txt')"
   ]
  },
  {
   "cell_type": "markdown",
   "metadata": {},
   "source": [
    "** Create a DB and insert dummy users **"
   ]
  },
  {
   "cell_type": "code",
   "execution_count": 17,
   "metadata": {},
   "outputs": [],
   "source": [
    "import pymongo\n",
    "conn = \"mongodb://localhost:27017\"\n",
    "client = pymongo.MongoClient(conn)\n",
    "db = client.email_app\n",
    "collection=db.users"
   ]
  },
  {
   "cell_type": "code",
   "execution_count": 18,
   "metadata": {},
   "outputs": [],
   "source": [
    "users = [{'username': 'admin', 'password': 'password'}, {'username': 'guest', 'password': '321321'}]\n",
    "for user in users:\n",
    "    collection.insert_one(user)"
   ]
  },
  {
   "cell_type": "code",
   "execution_count": 43,
   "metadata": {},
   "outputs": [],
   "source": [
    "a = [ 0, 1, 2, 3, 4, 5, 6, 7, 8, 9 ]"
   ]
  },
  {
   "cell_type": "code",
   "execution_count": 52,
   "metadata": {},
   "outputs": [
    {
     "data": {
      "text/plain": [
       "[9]"
      ]
     },
     "execution_count": 52,
     "metadata": {},
     "output_type": "execute_result"
    }
   ],
   "source": [
    "a[:-2:-6]"
   ]
  },
  {
   "cell_type": "code",
   "execution_count": 36,
   "metadata": {},
   "outputs": [],
   "source": [
    "import cgi\n",
    "import uuid\n",
    "import os\n",
    "from email.mime.multipart import MIMEMultipart\n",
    "from email.mime.text      import MIMEText\n",
    "from email.mime.image     import MIMEImage\n",
    "from email.header         import Header \n",
    "from mail_data import EMAIL, PASS\n",
    "import html\n",
    "\n",
    "name = 'pi pu'\n",
    "email = 'someemail'\n",
    "\n",
    "message_template = read_template('message_example.txt')\n",
    "named_template = message_template.substitute(RECIPIENT_NAME=name.title())\n",
    "\n",
    "# img = dict(title='Motivation report', path='cleaning.jpeg', cid=str(uuid.uuid4()))\n",
    "image = 'cleaning.jpeg'\n",
    "\n",
    "msg = MIMEMultipart()\n",
    "msg['Subject'] = Header('Report', 'utf-8')\n",
    "msg['From'] = EMAIL\n",
    "msg['To'] = email\n",
    "# msg_alternative = MIMEMultipart('alternative')\n",
    "# msg.attach(msg_alternative)\n",
    "# msg_alternative.attach(MIMEText(named_template, 'plain'))\n",
    "msg.attach(MIMEText(named_template, 'plain'))\n",
    "# msg_text = MIMEText('[image: {title}]'.format(**img), 'plain', 'utf-8')\n",
    "# msg_alternative.attach(msg_text)\n",
    "# msg.attach(msg_text)\n",
    "\n",
    "msgText = MIMEText('<br><div><br><img src=\"cid:%s\"></div><br>' % (image), 'html')  \n",
    "msg.attach(msgText)\n",
    "\n",
    "# msg_html = MIMEText('<br><br><div>'\n",
    "#                      '<img src=\"cid:{cid}\" alt=\"{alt}\"><br></div>'\n",
    "#                     .format(alt=html.escape(img['title'], quote=True), **img),\n",
    "#                     'html', 'utf-8')\n",
    "# msg_alternative.attach(msg_html)\n",
    "# msg.attach(msg_html)\n",
    "\n",
    "# fp = open(image, 'rb')                                                    \n",
    "# img = MIMEImage(fp.read())\n",
    "# fp.close()\n",
    "# # img.add_header('Content-ID', '<div>Image</div>')\n",
    "# msg.attach(img)\n",
    "\n",
    "with open(image, 'rb') as file:\n",
    "    msg_image = MIMEImage(file.read(), name=os.path.basename(image))\n",
    "#     msg_image.add_header('Content-ID', f'<{img[\"cid\"]}>')\n",
    "    msg.attach(msg_image)"
   ]
  },
  {
   "cell_type": "code",
   "execution_count": 31,
   "metadata": {},
   "outputs": [
    {
     "data": {
      "text/plain": [
       "<email.mime.multipart.MIMEMultipart at 0x10c5aa390>"
      ]
     },
     "execution_count": 31,
     "metadata": {},
     "output_type": "execute_result"
    }
   ],
   "source": [
    "msg"
   ]
  },
  {
   "cell_type": "code",
   "execution_count": 21,
   "metadata": {},
   "outputs": [
    {
     "data": {
      "text/plain": [
       "(235, b'2.7.0 Accepted')"
      ]
     },
     "execution_count": 21,
     "metadata": {},
     "output_type": "execute_result"
    }
   ],
   "source": [
    "import smtplib\n",
    "from mail_data import EMAIL, PASS\n",
    "server = smtplib.SMTP('smtp.gmail.com', 587)\n",
    "server.starttls()\n",
    "server.login(EMAIL, PASS)"
   ]
  },
  {
   "cell_type": "code",
   "execution_count": 37,
   "metadata": {},
   "outputs": [
    {
     "data": {
      "text/plain": [
       "{}"
      ]
     },
     "execution_count": 37,
     "metadata": {},
     "output_type": "execute_result"
    }
   ],
   "source": [
    "server.send_message(msg)"
   ]
  },
  {
   "cell_type": "code",
   "execution_count": null,
   "metadata": {},
   "outputs": [],
   "source": []
  },
  {
   "cell_type": "code",
   "execution_count": null,
   "metadata": {},
   "outputs": [],
   "source": []
  }
 ],
 "metadata": {
  "kernelspec": {
   "display_name": "Python [default]",
   "language": "python",
   "name": "python3"
  },
  "language_info": {
   "codemirror_mode": {
    "name": "ipython",
    "version": 3
   },
   "file_extension": ".py",
   "mimetype": "text/x-python",
   "name": "python",
   "nbconvert_exporter": "python",
   "pygments_lexer": "ipython3",
   "version": "3.6.4"
  }
 },
 "nbformat": 4,
 "nbformat_minor": 2
}
